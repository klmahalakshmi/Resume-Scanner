{
  "nbformat": 4,
  "nbformat_minor": 0,
  "metadata": {
    "colab": {
      "name": "Resume Scanner.ipynb",
      "provenance": []
    },
    "kernelspec": {
      "name": "python3",
      "display_name": "Python 3"
    },
    "language_info": {
      "name": "python"
    }
  },
  "cells": [
    {
      "cell_type": "markdown",
      "source": [
        "### **This Resume Scanner is used to find the percentage of how much your is resume will match with the given job description**"
      ],
      "metadata": {
        "id": "HorJ_ytkSKGG"
      }
    },
    {
      "cell_type": "code",
      "execution_count": 30,
      "metadata": {
        "colab": {
          "base_uri": "https://localhost:8080/"
        },
        "id": "eiUwg3RlApPh",
        "outputId": "855bf994-b2f8-418b-85d6-237c989af116"
      },
      "outputs": [
        {
          "output_type": "stream",
          "name": "stdout",
          "text": [
            "Requirement already satisfied: docx2txt in /usr/local/lib/python3.7/dist-packages (0.8)\n"
          ]
        }
      ],
      "source": [
        "!pip install docx2txt"
      ]
    },
    {
      "cell_type": "code",
      "source": [
        "import docx2txt"
      ],
      "metadata": {
        "id": "EMAMGDlHAz8H"
      },
      "execution_count": 31,
      "outputs": []
    },
    {
      "cell_type": "markdown",
      "source": [
        "**converting the docx file to txt file using the docx2txt library**"
      ],
      "metadata": {
        "id": "6DksJJl2QdBv"
      }
    },
    {
      "cell_type": "code",
      "source": [
        "job_description = docx2txt.process('/content/Simple-job-description-template.docx')"
      ],
      "metadata": {
        "id": "Z4E_fXslCluP"
      },
      "execution_count": 42,
      "outputs": []
    },
    {
      "cell_type": "code",
      "source": [
        "print(job_description)"
      ],
      "metadata": {
        "colab": {
          "base_uri": "https://localhost:8080/"
        },
        "id": "AXIwOgn6PDdR",
        "outputId": "5f44683c-e241-443a-ef7f-e567d5b7dab7"
      },
      "execution_count": 43,
      "outputs": [
        {
          "output_type": "stream",
          "name": "stdout",
          "text": [
            "Job description template\t\n",
            "\n",
            "\n",
            "\n",
            "Job title: (insert job title here)\n",
            "\n",
            "Reporting to: (insert supervisor’s title here)\n",
            "\n",
            "Salary: (insert salary per hour/annum or total package including base salary, superannuation, commissions or benefits here)\n",
            "\n",
            "Hours: (insert average number of hours per week or type of employment such as casual, full-time here)\n",
            "\n",
            "Location: (insert location of the position and any travel required)\n",
            "\n",
            "Purpose of the position (insert short paragraph which describes the overall purpose of this position and how it contributes to the goals or function of the business, include the authority level (e.g. manager or support staff) here)\n",
            "\n",
            "Key responsibilities & duties\n",
            "\n",
            "(insert the main responsibilities and duties of the position here. Then list the skills or competencies which the candidate will need in order to complete those duties. It’s also worth thinking about how important each duty/competency is e.g. how much of the job will be spent on each duty and is it a must have competency or can you train someone to do it?)\n",
            "\n",
            "Duties of the role\n",
            "\n",
            "Time spent\n",
            "\n",
            "Competencies sought\n",
            "\n",
            "Must have or optional (can be trained)\n",
            "\n",
            "e.g. Respond to enquiries – over the phone and face-to-face from the staff and public\n",
            "\n",
            "70%\n",
            "\n",
            "\n",
            "\n",
            "Communication skills including conflict resolution and friendly manner\n",
            "\n",
            "Must have\n",
            "\n",
            "e.g. Miscellaneous admin duties and support business team\n",
            "\n",
            "20%\n",
            "\n",
            "Good organisational skills and attention to detail\n",
            "\n",
            "Team orientated approach\n",
            "\n",
            "Must have\n",
            "\n",
            "e.g. Data entry\n",
            "\n",
            "10% \n",
            "\n",
            "Excel database skills\n",
            "\n",
            "Optional\n",
            "\n",
            "\n",
            "Academic or trade qualifications\n",
            "\n",
            "(insert list of desired academic and trades qualifications here, e.g. Certificate in Office Administration. If none are necessary state this as it could increase the number of applicants for the job.)\n",
            "\n",
            "\n",
            "Work experience and skills\n",
            "\n",
            "(insert list of work experience and skills needed to perform the job here, e.g. general administration/ reception experience)\n",
            "\n",
            "\n",
            "\n",
            "Manager Signature:\n",
            "\n",
            "Date:\n",
            "\n",
            "Job description template | Page 2 of 2\n"
          ]
        }
      ]
    },
    {
      "cell_type": "code",
      "source": [
        " resume = docx2txt.process('/content/sample_resume.docx')"
      ],
      "metadata": {
        "id": "BRwFC_-IHUcD"
      },
      "execution_count": 44,
      "outputs": []
    },
    {
      "cell_type": "code",
      "source": [
        "print(resume)"
      ],
      "metadata": {
        "colab": {
          "base_uri": "https://localhost:8080/"
        },
        "id": "mleHSsNnHy4b",
        "outputId": "982ab792-20da-472c-b6c7-07ad9ee3c0ba"
      },
      "execution_count": 45,
      "outputs": [
        {
          "output_type": "stream",
          "name": "stdout",
          "text": [
            "Contact\n",
            "\n",
            "Address:\n",
            "\n",
            "177 Great Portland Street, London W5W 6PQ\n",
            "\n",
            "\n",
            "\n",
            "Phone:\n",
            "\n",
            "+44 (0)20 7666 8555 \n",
            "\n",
            "\n",
            "\n",
            "Email:\n",
            "\n",
            "christoper.m@gmail.com\n",
            "\n",
            "\n",
            "\n",
            "LinkedIn:\n",
            "\n",
            "linkedin.com/christopher.morgan\n",
            "\n",
            "Languages\n",
            "\n",
            "Spanish – C2\n",
            "\n",
            "Chinese – A1\n",
            "\n",
            "German – A2\n",
            "\n",
            "Hobbies\n",
            "\n",
            "Writing\n",
            "\n",
            "Sketching\n",
            "\n",
            "Photography\n",
            "\n",
            "Design\n",
            "\n",
            "Contact\n",
            "\n",
            "Address:\n",
            "\n",
            "177 Great Portland Street, London W5W 6PQ\n",
            "\n",
            "\n",
            "\n",
            "Phone:\n",
            "\n",
            "+44 (0)20 7666 8555 \n",
            "\n",
            "\n",
            "\n",
            "Email:\n",
            "\n",
            "christoper.m@gmail.com\n",
            "\n",
            "\n",
            "\n",
            "LinkedIn:\n",
            "\n",
            "linkedin.com/christopher.morgan\n",
            "\n",
            "Languages\n",
            "\n",
            "Spanish – C2\n",
            "\n",
            "Chinese – A1\n",
            "\n",
            "German – A2\n",
            "\n",
            "Hobbies\n",
            "\n",
            "Writing\n",
            "\n",
            "Sketching\n",
            "\n",
            "Photography\n",
            "\n",
            "Design\n",
            "\n",
            "Summary\n",
            "\n",
            "Senior Web Developer specializing in front end development. Experienced with all stages of the development cycle for dynamic web projects. Well-versed in numerous programming languages including HTML5, PHP OOP, JavaScript, CSS, MySQL. Strong background in project management and customer relations.\n",
            "\n",
            "Skill Highlights\n",
            "\n",
            "Project management\n",
            "\n",
            "Strong decision maker\n",
            "\n",
            "Complex problem solver\n",
            "\n",
            "Creative design\n",
            "\n",
            "Innovative\n",
            "\n",
            "Service-focused\n",
            "\n",
            "Experience\n",
            "\n",
            "Web Developer - 09/2015 to 05/2019\n",
            "\n",
            "Luna Web Design, New York\n",
            "\n",
            "Cooperate with designers to create clean interfaces and simple, intuitive interactions and experiences.\n",
            "\n",
            "Develop project concepts and maintain optimal workflow.\n",
            "\n",
            "Work with senior developer to manage large, complex design projects for corporate clients.\n",
            "\n",
            "Complete detailed programming and development tasks for front end public and internal websites as well as challenging back-end server code.\n",
            "\n",
            "Carry out quality assurance tests to discover errors and optimize usability.\n",
            "\n",
            "Education\n",
            "\n",
            "Bachelor of Science: Computer Information Systems - 2014\n",
            "\n",
            "Columbia University, NY\n",
            "\n",
            "Certifications\n",
            "\n",
            "PHP Framework (certificate): Zend, Codeigniter, Symfony.\n",
            "\n",
            "Programming Languages: JavaScript, HTML5, PHP OOP, CSS, SQL, MySQL.\n",
            "\n",
            "\n",
            "\n",
            "Summary\n",
            "\n",
            "Senior Web Developer specializing in front end development. Experienced with all stages of the development cycle for dynamic web projects. Well-versed in numerous programming languages including HTML5, PHP OOP, JavaScript, CSS, MySQL. Strong background in project management and customer relations.\n",
            "\n",
            "Skill Highlights\n",
            "\n",
            "Project management\n",
            "\n",
            "Strong decision maker\n",
            "\n",
            "Complex problem solver\n",
            "\n",
            "Creative design\n",
            "\n",
            "Innovative\n",
            "\n",
            "Service-focused\n",
            "\n",
            "Experience\n",
            "\n",
            "Web Developer - 09/2015 to 05/2019\n",
            "\n",
            "Luna Web Design, New York\n",
            "\n",
            "Cooperate with designers to create clean interfaces and simple, intuitive interactions and experiences.\n",
            "\n",
            "Develop project concepts and maintain optimal workflow.\n",
            "\n",
            "Work with senior developer to manage large, complex design projects for corporate clients.\n",
            "\n",
            "Complete detailed programming and development tasks for front end public and internal websites as well as challenging back-end server code.\n",
            "\n",
            "Carry out quality assurance tests to discover errors and optimize usability.\n",
            "\n",
            "Education\n",
            "\n",
            "Bachelor of Science: Computer Information Systems - 2014\n",
            "\n",
            "Columbia University, NY\n",
            "\n",
            "Certifications\n",
            "\n",
            "PHP Framework (certificate): Zend, Codeigniter, Symfony.\n",
            "\n",
            "Programming Languages: JavaScript, HTML5, PHP OOP, CSS, SQL, MySQL.\n",
            "\n",
            "\n",
            "\n",
            "Christopher Morgan\n",
            "\n",
            "Christopher Morgan\n"
          ]
        }
      ]
    },
    {
      "cell_type": "code",
      "source": [
        "content = [job_description,resume]"
      ],
      "metadata": {
        "id": "mLI8qH0iH0md"
      },
      "execution_count": 46,
      "outputs": []
    },
    {
      "cell_type": "code",
      "source": [
        "from sklearn.feature_extraction.text import CountVectorizer\n",
        "cv = CountVectorizer()\n",
        "matrix = cv.fit_transform(content)"
      ],
      "metadata": {
        "id": "we9PQFl9ILcM"
      },
      "execution_count": 47,
      "outputs": []
    },
    {
      "cell_type": "code",
      "source": [
        "from sklearn.metrics.pairwise import cosine_similarity\n",
        "similarity_matrix = cosine_similarity(matrix)"
      ],
      "metadata": {
        "id": "XpSRdnVEId4s"
      },
      "execution_count": 48,
      "outputs": []
    },
    {
      "cell_type": "code",
      "source": [
        "print(similarity_matrix)"
      ],
      "metadata": {
        "colab": {
          "base_uri": "https://localhost:8080/"
        },
        "id": "qpnGXAwkIq1F",
        "outputId": "1dcf4357-129c-41d5-f181-28440af39aab"
      },
      "execution_count": 49,
      "outputs": [
        {
          "output_type": "stream",
          "name": "stdout",
          "text": [
            "[[1.         0.25881757]\n",
            " [0.25881757 1.        ]]\n"
          ]
        }
      ]
    },
    {
      "cell_type": "code",
      "source": [
        "print('Resume matches by : '+ str(similarity_matrix[1][0]*100))"
      ],
      "metadata": {
        "colab": {
          "base_uri": "https://localhost:8080/"
        },
        "id": "abHPn7JeIuNM",
        "outputId": "f7f12310-a1b6-4283-f4fc-8ef75c373c45"
      },
      "execution_count": 50,
      "outputs": [
        {
          "output_type": "stream",
          "name": "stdout",
          "text": [
            "Resume matches by : 25.881757246582154\n"
          ]
        }
      ]
    },
    {
      "cell_type": "code",
      "source": [
        ""
      ],
      "metadata": {
        "id": "2AIcrH-oO9fF"
      },
      "execution_count": null,
      "outputs": []
    }
  ]
}